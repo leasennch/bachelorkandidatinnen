{
 "cells": [
  {
   "cell_type": "markdown",
   "metadata": {},
   "source": [
    "# So sieht die durchschnittliche Bachelor-Kandidatin aus"
   ]
  },
  {
   "cell_type": "code",
   "execution_count": 2,
   "metadata": {},
   "outputs": [],
   "source": [
    "import requests\n",
    "from bs4 import BeautifulSoup\n",
    "import pandas as pd\n",
    "import math\n",
    "from selenium import webdriver\n",
    "from selenium.webdriver.common.keys import Keys\n",
    "from selenium.webdriver.support.ui import Select\n",
    "from selenium.webdriver.chrome.options import Options\n",
    "from selenium.webdriver.common.by import By\n",
    "import numpy as np\n",
    "import re\n",
    "\n",
    "\n",
    "import time\n",
    "import datetime\n"
   ]
  },
  {
   "cell_type": "code",
   "execution_count": 57,
   "metadata": {},
   "outputs": [],
   "source": [
    "import shutil"
   ]
  },
  {
   "cell_type": "markdown",
   "metadata": {},
   "source": [
    "## Linkliste für Kandidatinnenseiten zusammensuchen"
   ]
  },
  {
   "cell_type": "code",
   "execution_count": 85,
   "metadata": {},
   "outputs": [],
   "source": [
    "linklist = []\n",
    "staffeln = [1,2,3,4,5,6,7,\"\"]\n",
    "for staffel in staffeln:\n",
    "    #staffel = 7\n",
    "    website = requests.get(\"http://www.3plus.tv/bachelor/\"+str(staffel)).text\n",
    "    soup = BeautifulSoup(website, \"html.parser\")\n",
    "    kandidatinnen = soup.find('div', class_='sidebar').find('ul', class_='menu').find_all('li', class_=\"leaf\")[-23:]\n",
    "\n",
    "    if staffel == \"\": # weil die URL für die aktuelle Staffel auf \"\" lautet...\n",
    "        staffel = 8\n",
    "    for k in kandidatinnen:\n",
    "        linklist.append([staffel, k.text, k.find('a')['href']])"
   ]
  },
  {
   "cell_type": "code",
   "execution_count": 86,
   "metadata": {},
   "outputs": [
    {
     "data": {
      "text/plain": [
       "[[1, 'Episode 2', '/episode/der-bachelor/staffel-1-folge-2'],\n",
       " [1, 'Episode 1', '/episode/der-bachelor/staffel-1-folge-1'],\n",
       " [1, 'Sponsor', '/bachelor/sponsor1'],\n",
       " [1, 'Cam', '/bachelor/1/cam'],\n",
       " [1, 'Daryna', '/bachelor/1/daryna'],\n",
       " [1, 'Delilah und Raphaela', '/bachelor/1/delilahraphaela'],\n",
       " [1, 'Désirée', '/bachelor/1/Desiree'],\n",
       " [1, 'Estelle', '/bachelor/1/estelle'],\n",
       " [1, 'JLo', '/bachelor/1/jlo'],\n",
       " [1, 'Larissa', '/bachelor/1/larissa'],\n",
       " [1, 'Linda', '/bachelor/1/linda'],\n",
       " [1, 'Michèle', '/bachelor/1/michele'],\n",
       " [1, 'Nathalie', '/bachelor/1/nathalie'],\n",
       " [1, 'Nayla', '/bachelor/1/nayla'],\n",
       " [1, 'Rachele', '/bachelor/1/rachele'],\n",
       " [1, 'Sabrina', '/bachelor/1/sabrina'],\n",
       " [1, 'Sandy', '/bachelor/1/sandy'],\n",
       " [1, 'Senait', '/bachelor/1/senait'],\n",
       " [1, 'Sunny', '/bachelor/1/sunny'],\n",
       " [1, 'Tamara', '/bachelor/1/tamara'],\n",
       " [1, 'Tschosy', '/bachelor/1/tschosy'],\n",
       " [1, 'Vanessa', '/bachelor/1/vanessa'],\n",
       " [1, 'Viktoria', '/bachelor/1/viktoria'],\n",
       " [2, 'Episode 2', '/episode/der-bachelor/staffel-2-folge-2'],\n",
       " [2, 'Episode 1', '/episode/der-bachelor/staffel-2-folge-1'],\n",
       " [2, 'Sponsoren', '/bachelor/sponsor2'],\n",
       " [2, 'Anja', '/bachelor/2/anja'],\n",
       " [2, 'Carmen', '/bachelor/2/carmen'],\n",
       " [2, 'Chantal', '/bachelor/2/chantal'],\n",
       " [2, 'Dana', '/bachelor/2/dana'],\n",
       " [2, 'Isabel', '/bachelor/2/isabel'],\n",
       " [2, 'Jeanette', '/bachelor/2/jeanette'],\n",
       " [2, 'Lara', '/bachelor/2/lara'],\n",
       " [2, 'Leila', '/bachelor/2/leila'],\n",
       " [2, 'Lorena', '/bachelor/2/lorena'],\n",
       " [2, 'Michaela', '/bachelor/2/michaela'],\n",
       " [2, 'Mignon', '/bachelor/2/mignon'],\n",
       " [2, 'Olga', '/bachelor/2/olga'],\n",
       " [2, 'Paula', '/bachelor/2/paula'],\n",
       " [2, 'Rachel', '/bachelor/2/rachel'],\n",
       " [2, 'Rubina', '/bachelor/2/rubina'],\n",
       " [2, 'Samira', '/bachelor/2/samira'],\n",
       " [2, 'Tamara', '/bachelor/2/tamara'],\n",
       " [2, 'Vanessa', '/bachelor/2/vanessa'],\n",
       " [2, 'Vanny', '/bachelor/2/vanny'],\n",
       " [2, 'Viki', '/bachelor/2/viki'],\n",
       " [3, 'Episode 1', '/episode/der-bachelor/staffel-3-folge-1'],\n",
       " [3, 'Sponsoren', '/bachelor/sponsor3'],\n",
       " [3, 'Die Damen', '/bachelor/3/damen'],\n",
       " [3, 'Anna', '/bachelor/3/anna'],\n",
       " [3, 'Belinda', '/bachelor/3/belinda'],\n",
       " [3, 'Carmen', '/bachelor/3/carmen'],\n",
       " [3, 'Corinne', '/bachelor/3/corinne'],\n",
       " [3, 'Désirée', '/bachelor/3/desiree'],\n",
       " [3, 'Esra', '/bachelor/3/esra'],\n",
       " [3, 'Giuliana', '/bachelor/3/giuliana'],\n",
       " [3, 'Jasmin', '/bachelor/3/jasmin'],\n",
       " [3, 'Julia', '/bachelor/3/julia'],\n",
       " [3, 'Melanie', '/bachelor/3/melanie'],\n",
       " [3, 'Morena', '/bachelor/3/morena'],\n",
       " [3, 'Romana', '/bachelor/3/romana'],\n",
       " [3, 'Sabrina', '/bachelor/3/sabrina'],\n",
       " [3, 'Sarah E.', '/bachelor/3/sarah-e'],\n",
       " [3, 'Sarah S.', '/bachelor/3/sarah-s'],\n",
       " [3, 'Saskia', '/bachelor/3/saskia'],\n",
       " [3, 'Sofia', '/bachelor/3/sofia'],\n",
       " [3, 'Solen', '/bachelor/3/solen'],\n",
       " [3, 'Tasha', '/bachelor/3/tasha'],\n",
       " [3, 'Thania', '/bachelor/3/thania'],\n",
       " [4, 'Highlights', '/bachelor/4/highlights'],\n",
       " [4, 'Sponsoren', '/bachelor/04/sponsor'],\n",
       " [4, 'Die Damen', '/bachelor/4/damen'],\n",
       " [4, 'Andrea', '/bachelor/4/andrea'],\n",
       " [4, 'Anikò', '/bachelor/4/aniko'],\n",
       " [4, 'Anja', '/bachelor/4/anja'],\n",
       " [4, 'Annalisa', '/bachelor/4/annalisa'],\n",
       " [4, 'Daria', '/bachelor/4/daria'],\n",
       " [4, 'Debby', '/bachelor/4/debby'],\n",
       " [4, 'Gennesis', '/bachelor/4/gennesis'],\n",
       " [4, 'Hülya', '/bachelor/4/huelya'],\n",
       " [4, 'Josie', '/bachelor/4/josie'],\n",
       " [4, 'Ksenija', '/bachelor/4/ksenija'],\n",
       " [4, 'Lana', '/bachelor/4/lana'],\n",
       " [4, 'Laura', '/bachelor/4/laura'],\n",
       " [4, 'Laura Nora', '/bachelor/4/laura-nora'],\n",
       " [4, 'Monika', '/bachelor/4/monika'],\n",
       " [4, 'Natalie', '/bachelor/4/natalie'],\n",
       " [4, 'Nicole', '/bachelor/4/nicole'],\n",
       " [4, 'Sarah', '/bachelor/4/sarah'],\n",
       " [4, 'Snjezana', '/bachelor/4/snjezana'],\n",
       " [4, 'Stefanie', '/bachelor/4/stefanie'],\n",
       " [4, 'Talana', '/bachelor/4/talana'],\n",
       " [5, 'Highlights', '/content/der-bachelor-2016-highlights'],\n",
       " [5, 'Arina', '/bachelor/5/arina'],\n",
       " [5, 'Caro', '/bachelor/5/caro'],\n",
       " [5, 'Celine', '/bachelor/5/celine'],\n",
       " [5, 'Christine', '/bachelor/5/christine'],\n",
       " [5, 'Daniela', '/bachelor/5/daniela'],\n",
       " [5, 'Dani', '/bachelor/5/dani'],\n",
       " [5, 'Jana', '/bachelor/5/jana'],\n",
       " [5, 'Janine', '/bachelor/5/janine'],\n",
       " [5, 'Jessica', '/bachelor/5/jessica'],\n",
       " [5, 'Kay', '/bachelor/5/kay'],\n",
       " [5, 'Kristina', '/bachelor/5/kristina'],\n",
       " [5, 'Larissa', '/bachelor/5/larissa'],\n",
       " [5, 'Laura', '/bachelor/5/laura'],\n",
       " [5, 'Linda', '/bachelor/5/linda'],\n",
       " [5, 'Luiza', '/bachelor/5/luiza'],\n",
       " [5, 'Monika', '/bachelor/5/monika'],\n",
       " [5, 'Monya', '/bachelor/5/monya'],\n",
       " [5, 'Sarah', '/bachelor/5/sarah'],\n",
       " [5, 'Silvie', '/bachelor/5/silvie'],\n",
       " [5, 'Stella', '/bachelor/5/stella'],\n",
       " [5, 'Tanja', '/bachelor/5/tanja'],\n",
       " [5, 'Vesna', '/bachelor/5/vesna'],\n",
       " [6, 'Sponsoren', '/bachelor/6/sponsor'],\n",
       " [6, 'Die Damen', '/bachelor/6/damen'],\n",
       " [6, 'Bruna', '/bachelor/6/bruna'],\n",
       " [6, 'Carolin', '/bachelor/6/carolin'],\n",
       " [6, 'Carolina', '/bachelor/6/carolina'],\n",
       " [6, 'Chelsea', '/bachelor/6/chelsea'],\n",
       " [6, 'Céline', '/bachelor/6/celine'],\n",
       " [6, 'Daria', '/bachelor/6/daria'],\n",
       " [6, 'Daryana', '/bachelor/6/daryana'],\n",
       " [6, 'Dragana', '/bachelor/6/dragana'],\n",
       " [6, 'Elena', '/bachelor/6/elena'],\n",
       " [6, 'Florence', '/bachelor/6/florence'],\n",
       " [6, 'Janine', '/bachelor/6/janine'],\n",
       " [6, 'Julia', '/bachelor/6/julia'],\n",
       " [6, 'Ludmilla', '/bachelor/6/ludmilla'],\n",
       " [6, 'Margot', '/bachelor/6/margot'],\n",
       " [6, 'Marija', '/bachelor/6/marija'],\n",
       " [6, 'Melanie', '/bachelor/6/melanie'],\n",
       " [6, 'Michelle', '/bachelor/6/michelle'],\n",
       " [6, 'Mimi', '/bachelor/6/mimi'],\n",
       " [6, 'Monika', '/bachelor/6/monika'],\n",
       " [6, 'Romy', '/bachelor/6/romy'],\n",
       " [6, 'Serena', '/bachelor/6/serena'],\n",
       " [7, 'Episode 1', '/episode/der-bachelor/staffel-7-folge-1-0'],\n",
       " [7, 'Sponsoren/Partner', '/bachelor/7/sponsor'],\n",
       " [7, 'Alisha', '/bachelor/7/alisha'],\n",
       " [7, 'Amanda', '/bachelor/7/amanda'],\n",
       " [7, 'Ana', '/bachelor/7/ana'],\n",
       " [7, 'Carolina', '/bachelor/7/carolina'],\n",
       " [7, 'Carolin', '/bachelor/7/carolin'],\n",
       " [7, 'Fabienne', '/bachelor/7/fabienne'],\n",
       " [7, 'Francesca', '/bachelor/7/francesca'],\n",
       " [7, 'Ivy', '/bachelor/7/ivy'],\n",
       " [7, 'Jane', '/bachelor/7/jane'],\n",
       " [7, 'Julia', '/bachelor/7/julia1'],\n",
       " [7, 'Julia', '/bachelor/7/julia2'],\n",
       " [7, 'Maria', '/bachelor/7/maria'],\n",
       " [7, 'Mia', '/bachelor/7/mia'],\n",
       " [7, 'Mona', '/bachelor/7/mona'],\n",
       " [7, 'Nicole', '/bachelor/7/nicole'],\n",
       " [7, 'Sanja', '/bachelor/7/sanja'],\n",
       " [7, 'Seda', '/bachelor/7/seda'],\n",
       " [7, 'Sofia', '/bachelor/7/sofia'],\n",
       " [7, 'Sylwia', '/bachelor/7/sylwia'],\n",
       " [7, 'Valentyna', '/bachelor/7/valentyna'],\n",
       " [7, 'Victoria \"Bellydah\"', '/bachelor/7/bellydah'],\n",
       " [8, 'Episode 1', '/episode/der-bachelor/staffel-8-folge-1'],\n",
       " [8, 'Adela', '/bachelor/8/adela'],\n",
       " [8, 'Alessia', '/bachelor/8/alessia'],\n",
       " [8, 'Amy', '/bachelor/8/amy'],\n",
       " [8, 'Anna', '/bachelor/8/anna'],\n",
       " [8, 'Debora', '/bachelor/8/debora'],\n",
       " [8, 'Desiree', '/bachelor/8/desiree'],\n",
       " [8, 'Grace', '/bachelor/8/grace'],\n",
       " [8, 'Jovana', '/bachelor/8/jovana'],\n",
       " [8, 'Julia', '/bachelor/8/julia'],\n",
       " [8, 'Kristina', '/bachelor/8/kristina'],\n",
       " [8, 'Miriam', '/bachelor/8/miriam'],\n",
       " [8, 'Natalie', '/bachelor/8/natalie'],\n",
       " [8, 'Ramona', '/bachelor/8/ramona'],\n",
       " [8, 'Rapi', '/bachelor/8/rapi'],\n",
       " [8, 'Rivana', '/bachelor/8/rivana'],\n",
       " [8, 'Sandra', '/bachelor/8/sandra'],\n",
       " [8, 'Selina', '/bachelor/8/selina'],\n",
       " [8, 'Sindy', '/bachelor/8/sindy'],\n",
       " [8, 'Steffi', '/bachelor/8/steffi'],\n",
       " [8, 'Tanja', '/bachelor/8/tanja'],\n",
       " [8, 'Vanessa', '/bachelor/8/vanessa'],\n",
       " [8, 'Yiankarla', '/bachelor/8/yiankarla']]"
      ]
     },
     "execution_count": 86,
     "metadata": {},
     "output_type": "execute_result"
    }
   ],
   "source": [
    "linklist"
   ]
  },
  {
   "cell_type": "markdown",
   "metadata": {},
   "source": [
    "## Bilder abrufen "
   ]
  },
  {
   "cell_type": "code",
   "execution_count": 87,
   "metadata": {},
   "outputs": [
    {
     "name": "stdout",
     "output_type": "stream",
     "text": [
      "Problem mit Beschreibung: Die Damen, Staffel 3\n",
      "Problem mit Beschreibung: Sofia, Staffel 3\n",
      "Problem mit Beschreibung: Highlights, Staffel 4\n",
      "Problem mit Foto: Highlights, Staffel 4\n",
      "Problem mit Beschreibung: Die Damen, Staffel 4\n",
      "Problem mit Beschreibung: Highlights, Staffel 5\n",
      "Problem mit Foto: Highlights, Staffel 5\n"
     ]
    }
   ],
   "source": [
    "dataset = []\n",
    "for kandidatin in linklist:\n",
    "    # Ausnahme-Seiten wie \"Highlights\" und Co entfernen\n",
    "    if (\"Episode\" in kandidatin[1]) or (\"Sponsor\" in kandidatin[1]) or (\"Damen\" in kandidatin[1]) or (\"Highlights\" in kandidatin[1]):\n",
    "        continue\n",
    "        \n",
    "    website = requests.get(\"http://www.3plus.tv\"+kandidatin[2]).text\n",
    "    soup = BeautifulSoup(website, \"html.parser\")\n",
    "    \n",
    "    try:\n",
    "        desc = soup.find('div', {'id':'content-content-content'})\n",
    "        img = desc.find('img')['src']\n",
    "        about = desc.find_all('p')[1].text\n",
    "        alter = desc.find_all('table')[1].find_all('td')[1].text\n",
    "        wohnort = desc.find_all('table')[1].find_all('td')[3].text\n",
    "        sternzeichen = desc.find_all('table')[1].find_all('td')[5].text\n",
    "        dataset.append([kandidatin[0], kandidatin[1], kandidatin[2], img, about, alter, wohnort, sternzeichen])\n",
    "    except:\n",
    "        try:\n",
    "            img = desc.find('img')['src']\n",
    "            about = desc.find_all('p')[0].text\n",
    "            alter = desc.find_all('table')[0].find_all('td')[1].text\n",
    "            wohnort = desc.find_all('table')[0].find_all('td')[3].text\n",
    "            sternzeichen = desc.find_all('table')[0].find_all('td')[5].text\n",
    "            dataset.append([kandidatin[0], kandidatin[1], kandidatin[2], img, about, alter, wohnort, sternzeichen])\n",
    "        except:\n",
    "            print(\"Problem mit Beschreibung: \"+kandidatin[1]+\", Staffel \"+str(kandidatin[0]))\n",
    "     \n",
    "    try:\n",
    "        response = requests.get(\"http://www.3plus.tv\"+img, stream=True)\n",
    "\n",
    "        local_file = open('Bilder/'+str(kandidatin[0])+\"_\"+kandidatin[1]+'.jpg', 'wb')\n",
    "        response.raw.decode_content = True\n",
    "        shutil.copyfileobj(response.raw, local_file)\n",
    "        del response\n",
    "    except:\n",
    "        print(\"Problem mit Foto: \"+kandidatin[1]+\", Staffel \"+str(kandidatin[0]))"
   ]
  },
  {
   "cell_type": "markdown",
   "metadata": {},
   "source": [
    "## Daten analysieren"
   ]
  },
  {
   "cell_type": "code",
   "execution_count": 88,
   "metadata": {},
   "outputs": [],
   "source": [
    "df = pd.DataFrame(dataset, columns=[\"Staffel\", \"Name\", \"Link\", \"Foto\", \"Beschreibung\", \"Alter\", \"Kanton\", \"Sternzeichen\"])"
   ]
  },
  {
   "cell_type": "code",
   "execution_count": 89,
   "metadata": {},
   "outputs": [],
   "source": [
    "df['Alter'] = pd.to_numeric(df['Alter'])"
   ]
  },
  {
   "cell_type": "code",
   "execution_count": 90,
   "metadata": {},
   "outputs": [
    {
     "data": {
      "text/plain": [
       "Staffel     4.590361\n",
       "Alter      25.781818\n",
       "dtype: float64"
      ]
     },
     "execution_count": 90,
     "metadata": {},
     "output_type": "execute_result"
    }
   ],
   "source": [
    "df.mean()"
   ]
  },
  {
   "cell_type": "code",
   "execution_count": 91,
   "metadata": {},
   "outputs": [
    {
     "data": {
      "text/plain": [
       "Kanton Zürich                    49\n",
       "Kanton Bern                      17\n",
       "Kanton Aargau                    15\n",
       "Kanton Solothurn                 11\n",
       "Kanton Luzern                    11\n",
       "Kanton Thurgau                   10\n",
       "Kanton St. Gallen                 9\n",
       "Deutschland                       7\n",
       "Kanton Schwyz                     4\n",
       "Kanton Basel-Stadt                2\n",
       "Köln Deutschland                  2\n",
       "Zürich                            2\n",
       "Kanton Freiburg                   2\n",
       "Österreich                        2\n",
       "Liechtenstein                     2\n",
       "Berlin                            2\n",
       "Kanton Appenzell Ausserrhoden     2\n",
       "                                  1\n",
       "Kanton Tessin                     1\n",
       "Kanton Basel Land                 1\n",
       "Mailand                           1\n",
       "Kanton Basel-Landschaft           1\n",
       "Kanton Basel Stadt                1\n",
       "Kanton Basel                      1\n",
       "Kanton Schaffhausen               1\n",
       "Italien                           1\n",
       "Kanton Zug                        1\n",
       "Kanton St.Gallen                  1\n",
       "Wien, Österreich                  1\n",
       "Kanton ZH                         1\n",
       "Stuttgart                         1\n",
       "Kanton Graubünden                 1\n",
       "Renningen, Deutschland            1\n",
       "Hamburg                           1\n",
       "Name: Kanton, dtype: int64"
      ]
     },
     "execution_count": 91,
     "metadata": {},
     "output_type": "execute_result"
    }
   ],
   "source": [
    "df['Kanton'].value_counts()"
   ]
  },
  {
   "cell_type": "code",
   "execution_count": 92,
   "metadata": {},
   "outputs": [
    {
     "data": {
      "text/plain": [
       "Krebs         27\n",
       "Steinbock     19\n",
       "Zwillinge     18\n",
       "Löwe          14\n",
       "Skorpion      14\n",
       "Wassermann    13\n",
       "Fische        12\n",
       "Schütze       12\n",
       "Stier         11\n",
       "Waage          8\n",
       "Widder         6\n",
       "Jungfrau       6\n",
       "Zwilling       3\n",
       "Fisch          2\n",
       "               1\n",
       "Name: Sternzeichen, dtype: int64"
      ]
     },
     "execution_count": 92,
     "metadata": {},
     "output_type": "execute_result"
    }
   ],
   "source": [
    "df['Sternzeichen'].value_counts()"
   ]
  },
  {
   "cell_type": "markdown",
   "metadata": {},
   "source": [
    "## Average face berechnen\n",
    "Nach Anleitung von stekhn\n",
    "https://github.com/stekhn/average-faces-opencv"
   ]
  },
  {
   "cell_type": "code",
   "execution_count": null,
   "metadata": {},
   "outputs": [],
   "source": [
    "!python extract.py shape_predictor_68_face_landmarks.dat ./images"
   ]
  },
  {
   "cell_type": "code",
   "execution_count": null,
   "metadata": {},
   "outputs": [],
   "source": [
    "!python average.py ./images 170 240"
   ]
  }
 ],
 "metadata": {
  "kernelspec": {
   "display_name": "Python 3",
   "language": "python",
   "name": "python3"
  },
  "language_info": {
   "codemirror_mode": {
    "name": "ipython",
    "version": 3
   },
   "file_extension": ".py",
   "mimetype": "text/x-python",
   "name": "python",
   "nbconvert_exporter": "python",
   "pygments_lexer": "ipython3",
   "version": "3.7.0"
  }
 },
 "nbformat": 4,
 "nbformat_minor": 2
}
